{
 "cells": [
  {
   "cell_type": "code",
   "execution_count": 1,
   "id": "c77947bf-93b9-4e2d-ba6e-16ead9884d4a",
   "metadata": {},
   "outputs": [],
   "source": [
    "import pandas as pd\n",
    "import matplotlib.pyplot as plt\n",
    "import plotly.express as px\n",
    "import os\n",
    "import glob\n",
    "import numpy as np"
   ]
  },
  {
   "cell_type": "code",
   "execution_count": 2,
   "id": "034e8491-caa5-4937-8d2e-180cdbecd461",
   "metadata": {},
   "outputs": [],
   "source": [
    "folder = r'C:\\Users\\dmchacon\\Documents\\OAK-D Videos\\2_8\\1-14442C107152C0D200'\n",
    "videos = glob.glob(os.path.join(folder,'*.mp4'))"
   ]
  },
  {
   "cell_type": "code",
   "execution_count": 3,
   "id": "ffabef0f-ecac-422f-8b83-92723089986c",
   "metadata": {},
   "outputs": [
    {
     "name": "stdout",
     "output_type": "stream",
     "text": [
      "os.stat_result(st_mode=33206, st_ino=3096224744033222, st_dev=2263344069, st_nlink=1, st_uid=0, st_gid=0, st_size=1306410790, st_atime=1671233405, st_mtime=1669248640, st_ctime=1670351693)\n"
     ]
    }
   ],
   "source": [
    "path = videos[0]\n",
    "status = os.stat(path)\n",
    "print(status)"
   ]
  },
  {
   "cell_type": "code",
   "execution_count": 5,
   "id": "fe0886c3-e3d2-471e-9167-f1d268529d89",
   "metadata": {},
   "outputs": [
    {
     "name": "stdout",
     "output_type": "stream",
     "text": [
      "modified 2022-11-24 00:10:40+00:00\n"
     ]
    }
   ],
   "source": [
    "from datetime import datetime, timezone\n",
    "modified = datetime.fromtimestamp(status.st_mtime, tz=timezone.utc)\n",
    "print('modified', modified)"
   ]
  },
  {
   "cell_type": "code",
   "execution_count": 6,
   "id": "d0b8752b-30f9-4013-9abd-59bc1366e809",
   "metadata": {},
   "outputs": [
    {
     "name": "stdout",
     "output_type": "stream",
     "text": [
      "2022-11-23 20:10:40\n"
     ]
    }
   ],
   "source": [
    "t = datetime.fromtimestamp(status.st_mtime)\n",
    "print(t)"
   ]
  },
  {
   "cell_type": "code",
   "execution_count": 7,
   "id": "b175f80e-499a-4f4d-be97-ef0eceae44da",
   "metadata": {},
   "outputs": [
    {
     "ename": "OSError",
     "evalue": "[Errno 22] Invalid argument",
     "output_type": "error",
     "traceback": [
      "\u001b[1;31m---------------------------------------------------------------------------\u001b[0m",
      "\u001b[1;31mOSError\u001b[0m                                   Traceback (most recent call last)",
      "\u001b[1;32m~\\AppData\\Local\\Temp\\ipykernel_11780\\2066855872.py\u001b[0m in \u001b[0;36m<module>\u001b[1;34m\u001b[0m\n\u001b[1;32m----> 1\u001b[1;33m \u001b[0mt\u001b[0m \u001b[1;33m=\u001b[0m \u001b[0mdatetime\u001b[0m\u001b[1;33m.\u001b[0m\u001b[0mfromtimestamp\u001b[0m\u001b[1;33m(\u001b[0m\u001b[0mstatus\u001b[0m\u001b[1;33m.\u001b[0m\u001b[0mst_mtime_ns\u001b[0m\u001b[1;33m)\u001b[0m\u001b[1;33m\u001b[0m\u001b[1;33m\u001b[0m\u001b[0m\n\u001b[0m\u001b[0;32m      2\u001b[0m \u001b[0mprint\u001b[0m\u001b[1;33m(\u001b[0m\u001b[0mt\u001b[0m\u001b[1;33m)\u001b[0m\u001b[1;33m\u001b[0m\u001b[1;33m\u001b[0m\u001b[0m\n",
      "\u001b[1;31mOSError\u001b[0m: [Errno 22] Invalid argument"
     ]
    }
   ],
   "source": [
    "t = datetime.fromtimestamp(status.st_mtime_ns)\n",
    "print(t)"
   ]
  }
 ],
 "metadata": {
  "kernelspec": {
   "display_name": "Python 3 (ipykernel)",
   "language": "python",
   "name": "python3"
  },
  "language_info": {
   "codemirror_mode": {
    "name": "ipython",
    "version": 3
   },
   "file_extension": ".py",
   "mimetype": "text/x-python",
   "name": "python",
   "nbconvert_exporter": "python",
   "pygments_lexer": "ipython3",
   "version": "3.9.13"
  }
 },
 "nbformat": 4,
 "nbformat_minor": 5
}
